{
 "cells": [
  {
   "cell_type": "code",
   "execution_count": 5,
   "metadata": {},
   "outputs": [],
   "source": [
    "import pandas as pd\n",
    "import numpy as np\n",
    "import os\n",
    "import glob\n",
    "import re # Regular Expressions\n",
    "import pickle\n",
    "\n",
    "# Natural Language Processing (NLP)\n",
    "import nltk # Natural Language ToolKit\n",
    "from gensim import corpora # Dictionaries\n",
    "from nltk.stem import PorterStemmer # Porter stemming\n",
    "from gensim.models import TfidfModel # TF-IDF models\n",
    "from gensim import similarities # Similarity computations\n",
    "\n",
    "# Clustering\n",
    "from scipy.cluster import hierarchy\n",
    "\n",
    "# Data Visualisation\n",
    "import matplotlib.pyplot as plt\n",
    "import seaborn as sns\n",
    "# sns.set(rc = {'figure.figsize': (30, 20)})\n",
    "plt.rcParams[\"figure.figsize\"] = (20,10)\n",
    "\n",
    "# Display plots in a notebook\n",
    "%matplotlib inline"
   ]
  },
  {
   "cell_type": "code",
   "execution_count": 7,
   "metadata": {},
   "outputs": [
    {
     "data": {
      "text/html": [
       "<div>\n",
       "<style scoped>\n",
       "    .dataframe tbody tr th:only-of-type {\n",
       "        vertical-align: middle;\n",
       "    }\n",
       "\n",
       "    .dataframe tbody tr th {\n",
       "        vertical-align: top;\n",
       "    }\n",
       "\n",
       "    .dataframe thead th {\n",
       "        text-align: right;\n",
       "    }\n",
       "</style>\n",
       "<table border=\"1\" class=\"dataframe\">\n",
       "  <thead>\n",
       "    <tr style=\"text-align: right;\">\n",
       "      <th></th>\n",
       "      <th>id</th>\n",
       "      <th>title</th>\n",
       "      <th>category</th>\n",
       "      <th>abstract</th>\n",
       "      <th>version</th>\n",
       "    </tr>\n",
       "  </thead>\n",
       "  <tbody>\n",
       "    <tr>\n",
       "      <th>0</th>\n",
       "      <td>0704.0047</td>\n",
       "      <td>Intelligent location of simultaneously active ...</td>\n",
       "      <td>cs.NE cs.AI</td>\n",
       "      <td>The intelligent acoustic emission locator is...</td>\n",
       "      <td>Sun, 1 Apr 2007 13:06:50 GMT</td>\n",
       "    </tr>\n",
       "    <tr>\n",
       "      <th>1</th>\n",
       "      <td>0704.0050</td>\n",
       "      <td>Intelligent location of simultaneously active ...</td>\n",
       "      <td>cs.NE cs.AI</td>\n",
       "      <td>Part I describes an intelligent acoustic emi...</td>\n",
       "      <td>Sun, 1 Apr 2007 18:53:13 GMT</td>\n",
       "    </tr>\n",
       "    <tr>\n",
       "      <th>2</th>\n",
       "      <td>0704.0304</td>\n",
       "      <td>The World as Evolving Information</td>\n",
       "      <td>cs.IT cs.AI math.IT q-bio.PE</td>\n",
       "      <td>This paper discusses the benefits of describ...</td>\n",
       "      <td>Wed, 13 Oct 2010 19:49:16 GMT</td>\n",
       "    </tr>\n",
       "    <tr>\n",
       "      <th>3</th>\n",
       "      <td>0704.0671</td>\n",
       "      <td>Learning from compressed observations</td>\n",
       "      <td>cs.IT cs.LG math.IT</td>\n",
       "      <td>The problem of statistical learning is to co...</td>\n",
       "      <td>Thu, 5 Apr 2007 02:57:15 GMT</td>\n",
       "    </tr>\n",
       "    <tr>\n",
       "      <th>4</th>\n",
       "      <td>0704.0954</td>\n",
       "      <td>Sensor Networks with Random Links: Topology De...</td>\n",
       "      <td>cs.IT cs.LG math.IT</td>\n",
       "      <td>In a sensor network, in practice, the commun...</td>\n",
       "      <td>Fri, 6 Apr 2007 21:58:52 GMT</td>\n",
       "    </tr>\n",
       "  </tbody>\n",
       "</table>\n",
       "</div>"
      ],
      "text/plain": [
       "          id                                              title  \\\n",
       "0  0704.0047  Intelligent location of simultaneously active ...   \n",
       "1  0704.0050  Intelligent location of simultaneously active ...   \n",
       "2  0704.0304                  The World as Evolving Information   \n",
       "3  0704.0671              Learning from compressed observations   \n",
       "4  0704.0954  Sensor Networks with Random Links: Topology De...   \n",
       "\n",
       "                       category  \\\n",
       "0                   cs.NE cs.AI   \n",
       "1                   cs.NE cs.AI   \n",
       "2  cs.IT cs.AI math.IT q-bio.PE   \n",
       "3           cs.IT cs.LG math.IT   \n",
       "4           cs.IT cs.LG math.IT   \n",
       "\n",
       "                                            abstract  \\\n",
       "0    The intelligent acoustic emission locator is...   \n",
       "1    Part I describes an intelligent acoustic emi...   \n",
       "2    This paper discusses the benefits of describ...   \n",
       "3    The problem of statistical learning is to co...   \n",
       "4    In a sensor network, in practice, the commun...   \n",
       "\n",
       "                         version  \n",
       "0   Sun, 1 Apr 2007 13:06:50 GMT  \n",
       "1   Sun, 1 Apr 2007 18:53:13 GMT  \n",
       "2  Wed, 13 Oct 2010 19:49:16 GMT  \n",
       "3   Thu, 5 Apr 2007 02:57:15 GMT  \n",
       "4   Fri, 6 Apr 2007 21:58:52 GMT  "
      ]
     },
     "execution_count": 7,
     "metadata": {},
     "output_type": "execute_result"
    }
   ],
   "source": [
    "# Read data into a dataframe and displaying its head\n",
    "df = pd.read_json(\"ai_papers.json\")\n",
    "df.head()"
   ]
  },
  {
   "cell_type": "code",
   "execution_count": 8,
   "metadata": {},
   "outputs": [
    {
     "name": "stdout",
     "output_type": "stream",
     "text": [
      "<class 'pandas.core.frame.DataFrame'>\n",
      "Int64Index: 91496 entries, 0 to 91495\n",
      "Data columns (total 5 columns):\n",
      " #   Column    Non-Null Count  Dtype \n",
      "---  ------    --------------  ----- \n",
      " 0   id        91496 non-null  object\n",
      " 1   title     91496 non-null  object\n",
      " 2   category  91496 non-null  object\n",
      " 3   abstract  91496 non-null  object\n",
      " 4   version   91496 non-null  object\n",
      "dtypes: object(5)\n",
      "memory usage: 4.2+ MB\n"
     ]
    }
   ],
   "source": [
    "df.info()"
   ]
  },
  {
   "cell_type": "code",
   "execution_count": null,
   "metadata": {},
   "outputs": [],
   "source": [
    "# Remove non-ASCII characters\n",
    "df['abstract'] = books_df['abstract'].str.replace(r'[\\W_]+', ' ')"
   ]
  },
  {
   "cell_type": "code",
   "execution_count": 9,
   "metadata": {},
   "outputs": [],
   "source": [
    "# Tokenize\n",
    "df['abstract_split'] = df['abstract'].str.split()"
   ]
  },
  {
   "cell_type": "code",
   "execution_count": 11,
   "metadata": {},
   "outputs": [],
   "source": [
    "# Count the number of tokens for each abstract\n",
    "df['abstract_len'] = df.apply(lambda row: len(row['abstract_split']), \n",
    "                                        axis = 1) "
   ]
  },
  {
   "cell_type": "code",
   "execution_count": 12,
   "metadata": {},
   "outputs": [
    {
     "name": "stderr",
     "output_type": "stream",
     "text": [
      "/home/gsandu/.local/lib/python3.8/site-packages/seaborn/distributions.py:2551: FutureWarning: `distplot` is a deprecated function and will be removed in a future version. Please adapt your code to use either `displot` (a figure-level function with similar flexibility) or `histplot` (an axes-level function for histograms).\n",
      "  warnings.warn(msg, FutureWarning)\n"
     ]
    },
    {
     "data": {
      "image/png": "[encoded data removed]",
      "text/plain": [
       "<Figure size 432x288 with 1 Axes>"
      ]
     },
     "metadata": {
      "needs_background": "light"
     },
     "output_type": "display_data"
    }
   ],
   "source": [
    "sns.distplot(df['abstract_len'])\n",
    "plt.show()"
   ]
  },
  {
   "cell_type": "code",
   "execution_count": 14,
   "metadata": {},
   "outputs": [
    {
     "data": {
      "text/html": [
       "<div>\n",
       "<style scoped>\n",
       "    .dataframe tbody tr th:only-of-type {\n",
       "        vertical-align: middle;\n",
       "    }\n",
       "\n",
       "    .dataframe tbody tr th {\n",
       "        vertical-align: top;\n",
       "    }\n",
       "\n",
       "    .dataframe thead th {\n",
       "        text-align: right;\n",
       "    }\n",
       "</style>\n",
       "<table border=\"1\" class=\"dataframe\">\n",
       "  <thead>\n",
       "    <tr style=\"text-align: right;\">\n",
       "      <th></th>\n",
       "      <th>abstract</th>\n",
       "      <th>tokens</th>\n",
       "    </tr>\n",
       "  </thead>\n",
       "  <tbody>\n",
       "    <tr>\n",
       "      <th>0</th>\n",
       "      <td>The intelligent acoustic emission locator is...</td>\n",
       "      <td>[The, intelligent, acoustic, emission, locator...</td>\n",
       "    </tr>\n",
       "    <tr>\n",
       "      <th>1</th>\n",
       "      <td>Part I describes an intelligent acoustic emi...</td>\n",
       "      <td>[Part, I, describes, an, intelligent, acoustic...</td>\n",
       "    </tr>\n",
       "    <tr>\n",
       "      <th>2</th>\n",
       "      <td>This paper discusses the benefits of describ...</td>\n",
       "      <td>[This, paper, discusses, the, benefits, of, de...</td>\n",
       "    </tr>\n",
       "    <tr>\n",
       "      <th>3</th>\n",
       "      <td>The problem of statistical learning is to co...</td>\n",
       "      <td>[The, problem, of, statistical, learning, is, ...</td>\n",
       "    </tr>\n",
       "    <tr>\n",
       "      <th>4</th>\n",
       "      <td>In a sensor network, in practice, the commun...</td>\n",
       "      <td>[In, a, sensor, network, in, practice, the, co...</td>\n",
       "    </tr>\n",
       "  </tbody>\n",
       "</table>\n",
       "</div>"
      ],
      "text/plain": [
       "                                            abstract  \\\n",
       "0    The intelligent acoustic emission locator is...   \n",
       "1    Part I describes an intelligent acoustic emi...   \n",
       "2    This paper discusses the benefits of describ...   \n",
       "3    The problem of statistical learning is to co...   \n",
       "4    In a sensor network, in practice, the commun...   \n",
       "\n",
       "                                              tokens  \n",
       "0  [The, intelligent, acoustic, emission, locator...  \n",
       "1  [Part, I, describes, an, intelligent, acoustic...  \n",
       "2  [This, paper, discusses, the, benefits, of, de...  \n",
       "3  [The, problem, of, statistical, learning, is, ...  \n",
       "4  [In, a, sensor, network, in, practice, the, co...  "
      ]
     },
     "execution_count": 14,
     "metadata": {},
     "output_type": "execute_result"
    }
   ],
   "source": [
    "# Creating a tokenizer\n",
    "tokenizer = nltk.tokenize.RegexpTokenizer(pattern = \"\\w+\")\n",
    "\n",
    "# Tokenizing the text\n",
    "df['tokens'] = df.apply(lambda row:tokenizer.tokenize(row['abstract']), axis = 1)\n",
    "\n",
    "# Print the first 8 tokenized abstracts\n",
    "df[['abstract', 'tokens']].head()"
   ]
  },
  {
   "cell_type": "code",
   "execution_count": 15,
   "metadata": {},
   "outputs": [
    {
     "data": {
      "text/html": [
       "<div>\n",
       "<style scoped>\n",
       "    .dataframe tbody tr th:only-of-type {\n",
       "        vertical-align: middle;\n",
       "    }\n",
       "\n",
       "    .dataframe tbody tr th {\n",
       "        vertical-align: top;\n",
       "    }\n",
       "\n",
       "    .dataframe thead th {\n",
       "        text-align: right;\n",
       "    }\n",
       "</style>\n",
       "<table border=\"1\" class=\"dataframe\">\n",
       "  <thead>\n",
       "    <tr style=\"text-align: right;\">\n",
       "      <th></th>\n",
       "      <th>abstract</th>\n",
       "      <th>tokens</th>\n",
       "      <th>tokens_lower</th>\n",
       "    </tr>\n",
       "  </thead>\n",
       "  <tbody>\n",
       "    <tr>\n",
       "      <th>0</th>\n",
       "      <td>The intelligent acoustic emission locator is...</td>\n",
       "      <td>[The, intelligent, acoustic, emission, locator...</td>\n",
       "      <td>[the, intelligent, acoustic, emission, locator...</td>\n",
       "    </tr>\n",
       "    <tr>\n",
       "      <th>1</th>\n",
       "      <td>Part I describes an intelligent acoustic emi...</td>\n",
       "      <td>[Part, I, describes, an, intelligent, acoustic...</td>\n",
       "      <td>[part, i, describes, an, intelligent, acoustic...</td>\n",
       "    </tr>\n",
       "    <tr>\n",
       "      <th>2</th>\n",
       "      <td>This paper discusses the benefits of describ...</td>\n",
       "      <td>[This, paper, discusses, the, benefits, of, de...</td>\n",
       "      <td>[this, paper, discusses, the, benefits, of, de...</td>\n",
       "    </tr>\n",
       "    <tr>\n",
       "      <th>3</th>\n",
       "      <td>The problem of statistical learning is to co...</td>\n",
       "      <td>[The, problem, of, statistical, learning, is, ...</td>\n",
       "      <td>[the, problem, of, statistical, learning, is, ...</td>\n",
       "    </tr>\n",
       "    <tr>\n",
       "      <th>4</th>\n",
       "      <td>In a sensor network, in practice, the commun...</td>\n",
       "      <td>[In, a, sensor, network, in, practice, the, co...</td>\n",
       "      <td>[in, a, sensor, network, in, practice, the, co...</td>\n",
       "    </tr>\n",
       "  </tbody>\n",
       "</table>\n",
       "</div>"
      ],
      "text/plain": [
       "                                            abstract  \\\n",
       "0    The intelligent acoustic emission locator is...   \n",
       "1    Part I describes an intelligent acoustic emi...   \n",
       "2    This paper discusses the benefits of describ...   \n",
       "3    The problem of statistical learning is to co...   \n",
       "4    In a sensor network, in practice, the commun...   \n",
       "\n",
       "                                              tokens  \\\n",
       "0  [The, intelligent, acoustic, emission, locator...   \n",
       "1  [Part, I, describes, an, intelligent, acoustic...   \n",
       "2  [This, paper, discusses, the, benefits, of, de...   \n",
       "3  [The, problem, of, statistical, learning, is, ...   \n",
       "4  [In, a, sensor, network, in, practice, the, co...   \n",
       "\n",
       "                                        tokens_lower  \n",
       "0  [the, intelligent, acoustic, emission, locator...  \n",
       "1  [part, i, describes, an, intelligent, acoustic...  \n",
       "2  [this, paper, discusses, the, benefits, of, de...  \n",
       "3  [the, problem, of, statistical, learning, is, ...  \n",
       "4  [in, a, sensor, network, in, practice, the, co...  "
      ]
     },
     "execution_count": 15,
     "metadata": {},
     "output_type": "execute_result"
    }
   ],
   "source": [
    "# Convert the text to lower case \n",
    "df['tokens_lower'] = df.apply(lambda row: [token.lower() for token in row['tokens']] , \n",
    "                                          axis=1)\n",
    "\n",
    "# Printing out words / tokens \n",
    "df[['abstract', 'tokens', 'tokens_lower']].head()"
   ]
  },
  {
   "cell_type": "code",
   "execution_count": 18,
   "metadata": {},
   "outputs": [
    {
     "data": {
      "text/plain": [
       "['me', 'my', 'myself', 'we', 'our', 'ours', 'ourselves', 'you', \"you're\"]"
      ]
     },
     "execution_count": 18,
     "metadata": {},
     "output_type": "execute_result"
    }
   ],
   "source": [
    "# Getting the English stop words from nltk\n",
    "stopwords = nltk.corpus.stopwords.words('english')\n",
    "stopwords[1:10]"
   ]
  },
  {
   "cell_type": "code",
   "execution_count": 19,
   "metadata": {},
   "outputs": [
    {
     "data": {
      "text/html": [
       "<div>\n",
       "<style scoped>\n",
       "    .dataframe tbody tr th:only-of-type {\n",
       "        vertical-align: middle;\n",
       "    }\n",
       "\n",
       "    .dataframe tbody tr th {\n",
       "        vertical-align: top;\n",
       "    }\n",
       "\n",
       "    .dataframe thead th {\n",
       "        text-align: right;\n",
       "    }\n",
       "</style>\n",
       "<table border=\"1\" class=\"dataframe\">\n",
       "  <thead>\n",
       "    <tr style=\"text-align: right;\">\n",
       "      <th></th>\n",
       "      <th>abstract</th>\n",
       "      <th>tokens</th>\n",
       "      <th>tokens_lower</th>\n",
       "      <th>tokens_no_sw</th>\n",
       "    </tr>\n",
       "  </thead>\n",
       "  <tbody>\n",
       "    <tr>\n",
       "      <th>0</th>\n",
       "      <td>The intelligent acoustic emission locator is...</td>\n",
       "      <td>[The, intelligent, acoustic, emission, locator...</td>\n",
       "      <td>[the, intelligent, acoustic, emission, locator...</td>\n",
       "      <td>[intelligent, acoustic, emission, locator, des...</td>\n",
       "    </tr>\n",
       "    <tr>\n",
       "      <th>1</th>\n",
       "      <td>Part I describes an intelligent acoustic emi...</td>\n",
       "      <td>[Part, I, describes, an, intelligent, acoustic...</td>\n",
       "      <td>[part, i, describes, an, intelligent, acoustic...</td>\n",
       "      <td>[part, describes, intelligent, acoustic, emiss...</td>\n",
       "    </tr>\n",
       "    <tr>\n",
       "      <th>2</th>\n",
       "      <td>This paper discusses the benefits of describ...</td>\n",
       "      <td>[This, paper, discusses, the, benefits, of, de...</td>\n",
       "      <td>[this, paper, discusses, the, benefits, of, de...</td>\n",
       "      <td>[paper, discusses, benefits, describing, world...</td>\n",
       "    </tr>\n",
       "    <tr>\n",
       "      <th>3</th>\n",
       "      <td>The problem of statistical learning is to co...</td>\n",
       "      <td>[The, problem, of, statistical, learning, is, ...</td>\n",
       "      <td>[the, problem, of, statistical, learning, is, ...</td>\n",
       "      <td>[problem, statistical, learning, construct, pr...</td>\n",
       "    </tr>\n",
       "    <tr>\n",
       "      <th>4</th>\n",
       "      <td>In a sensor network, in practice, the commun...</td>\n",
       "      <td>[In, a, sensor, network, in, practice, the, co...</td>\n",
       "      <td>[in, a, sensor, network, in, practice, the, co...</td>\n",
       "      <td>[sensor, network, practice, communication, amo...</td>\n",
       "    </tr>\n",
       "  </tbody>\n",
       "</table>\n",
       "</div>"
      ],
      "text/plain": [
       "                                            abstract  \\\n",
       "0    The intelligent acoustic emission locator is...   \n",
       "1    Part I describes an intelligent acoustic emi...   \n",
       "2    This paper discusses the benefits of describ...   \n",
       "3    The problem of statistical learning is to co...   \n",
       "4    In a sensor network, in practice, the commun...   \n",
       "\n",
       "                                              tokens  \\\n",
       "0  [The, intelligent, acoustic, emission, locator...   \n",
       "1  [Part, I, describes, an, intelligent, acoustic...   \n",
       "2  [This, paper, discusses, the, benefits, of, de...   \n",
       "3  [The, problem, of, statistical, learning, is, ...   \n",
       "4  [In, a, sensor, network, in, practice, the, co...   \n",
       "\n",
       "                                        tokens_lower  \\\n",
       "0  [the, intelligent, acoustic, emission, locator...   \n",
       "1  [part, i, describes, an, intelligent, acoustic...   \n",
       "2  [this, paper, discusses, the, benefits, of, de...   \n",
       "3  [the, problem, of, statistical, learning, is, ...   \n",
       "4  [in, a, sensor, network, in, practice, the, co...   \n",
       "\n",
       "                                        tokens_no_sw  \n",
       "0  [intelligent, acoustic, emission, locator, des...  \n",
       "1  [part, describes, intelligent, acoustic, emiss...  \n",
       "2  [paper, discusses, benefits, describing, world...  \n",
       "3  [problem, statistical, learning, construct, pr...  \n",
       "4  [sensor, network, practice, communication, amo...  "
      ]
     },
     "execution_count": 19,
     "metadata": {},
     "output_type": "execute_result"
    }
   ],
   "source": [
    "# Remove stopwords\n",
    "df['tokens_no_sw'] = df.apply(lambda row: [token for token in row['tokens_lower'] \n",
    "                                                       if token not in stopwords] , \n",
    "                                          axis=1)\n",
    "\n",
    "# Printing out the first 8 words / tokens \n",
    "df[['abstract', 'tokens', 'tokens_lower', 'tokens_no_sw']].head()"
   ]
  },
  {
   "cell_type": "code",
   "execution_count": 21,
   "metadata": {
    "scrolled": true
   },
   "outputs": [
    {
     "ename": "KeyError",
     "evalue": "\"['book_desc'] not in index\"",
     "output_type": "error",
     "traceback": [
      "\u001b[0;31m---------------------------------------------------------------------------\u001b[0m",
      "\u001b[0;31mKeyError\u001b[0m                                  Traceback (most recent call last)",
      "\u001b[0;32m<ipython-input-21-46d7d312d3db>\u001b[0m in \u001b[0;36m<module>\u001b[0;34m\u001b[0m\n\u001b[1;32m      7\u001b[0m \u001b[0;34m\u001b[0m\u001b[0m\n\u001b[1;32m      8\u001b[0m \u001b[0;31m# Printing out the first 8 words / tokens\u001b[0m\u001b[0;34m\u001b[0m\u001b[0;34m\u001b[0m\u001b[0;34m\u001b[0m\u001b[0m\n\u001b[0;32m----> 9\u001b[0;31m \u001b[0mdf\u001b[0m\u001b[0;34m[\u001b[0m\u001b[0;34m[\u001b[0m\u001b[0;34m'book_desc'\u001b[0m\u001b[0;34m,\u001b[0m \u001b[0;34m'tokens'\u001b[0m\u001b[0;34m,\u001b[0m \u001b[0;34m'tokens_lower'\u001b[0m\u001b[0;34m,\u001b[0m \u001b[0;34m'tokens_no_sw'\u001b[0m\u001b[0;34m,\u001b[0m \u001b[0;34m'tokens_stem'\u001b[0m\u001b[0;34m]\u001b[0m\u001b[0;34m]\u001b[0m\u001b[0;34m.\u001b[0m\u001b[0mhead\u001b[0m\u001b[0;34m(\u001b[0m\u001b[0;34m)\u001b[0m\u001b[0;34m\u001b[0m\u001b[0;34m\u001b[0m\u001b[0m\n\u001b[0m",
      "\u001b[0;32m~/.local/lib/python3.8/site-packages/pandas/core/frame.py\u001b[0m in \u001b[0;36m__getitem__\u001b[0;34m(self, key)\u001b[0m\n\u001b[1;32m   2906\u001b[0m             \u001b[0;32mif\u001b[0m \u001b[0mis_iterator\u001b[0m\u001b[0;34m(\u001b[0m\u001b[0mkey\u001b[0m\u001b[0;34m)\u001b[0m\u001b[0;34m:\u001b[0m\u001b[0;34m\u001b[0m\u001b[0;34m\u001b[0m\u001b[0m\n\u001b[1;32m   2907\u001b[0m                 \u001b[0mkey\u001b[0m \u001b[0;34m=\u001b[0m \u001b[0mlist\u001b[0m\u001b[0;34m(\u001b[0m\u001b[0mkey\u001b[0m\u001b[0;34m)\u001b[0m\u001b[0;34m\u001b[0m\u001b[0;34m\u001b[0m\u001b[0m\n\u001b[0;32m-> 2908\u001b[0;31m             \u001b[0mindexer\u001b[0m \u001b[0;34m=\u001b[0m \u001b[0mself\u001b[0m\u001b[0;34m.\u001b[0m\u001b[0mloc\u001b[0m\u001b[0;34m.\u001b[0m\u001b[0m_get_listlike_indexer\u001b[0m\u001b[0;34m(\u001b[0m\u001b[0mkey\u001b[0m\u001b[0;34m,\u001b[0m \u001b[0maxis\u001b[0m\u001b[0;34m=\u001b[0m\u001b[0;36m1\u001b[0m\u001b[0;34m,\u001b[0m \u001b[0mraise_missing\u001b[0m\u001b[0;34m=\u001b[0m\u001b[0;32mTrue\u001b[0m\u001b[0;34m)\u001b[0m\u001b[0;34m[\u001b[0m\u001b[0;36m1\u001b[0m\u001b[0;34m]\u001b[0m\u001b[0;34m\u001b[0m\u001b[0;34m\u001b[0m\u001b[0m\n\u001b[0m\u001b[1;32m   2909\u001b[0m \u001b[0;34m\u001b[0m\u001b[0m\n\u001b[1;32m   2910\u001b[0m         \u001b[0;31m# take() does not accept boolean indexers\u001b[0m\u001b[0;34m\u001b[0m\u001b[0;34m\u001b[0m\u001b[0;34m\u001b[0m\u001b[0m\n",
      "\u001b[0;32m~/.local/lib/python3.8/site-packages/pandas/core/indexing.py\u001b[0m in \u001b[0;36m_get_listlike_indexer\u001b[0;34m(self, key, axis, raise_missing)\u001b[0m\n\u001b[1;32m   1252\u001b[0m             \u001b[0mkeyarr\u001b[0m\u001b[0;34m,\u001b[0m \u001b[0mindexer\u001b[0m\u001b[0;34m,\u001b[0m \u001b[0mnew_indexer\u001b[0m \u001b[0;34m=\u001b[0m \u001b[0max\u001b[0m\u001b[0;34m.\u001b[0m\u001b[0m_reindex_non_unique\u001b[0m\u001b[0;34m(\u001b[0m\u001b[0mkeyarr\u001b[0m\u001b[0;34m)\u001b[0m\u001b[0;34m\u001b[0m\u001b[0;34m\u001b[0m\u001b[0m\n\u001b[1;32m   1253\u001b[0m \u001b[0;34m\u001b[0m\u001b[0m\n\u001b[0;32m-> 1254\u001b[0;31m         \u001b[0mself\u001b[0m\u001b[0;34m.\u001b[0m\u001b[0m_validate_read_indexer\u001b[0m\u001b[0;34m(\u001b[0m\u001b[0mkeyarr\u001b[0m\u001b[0;34m,\u001b[0m \u001b[0mindexer\u001b[0m\u001b[0;34m,\u001b[0m \u001b[0maxis\u001b[0m\u001b[0;34m,\u001b[0m \u001b[0mraise_missing\u001b[0m\u001b[0;34m=\u001b[0m\u001b[0mraise_missing\u001b[0m\u001b[0;34m)\u001b[0m\u001b[0;34m\u001b[0m\u001b[0;34m\u001b[0m\u001b[0m\n\u001b[0m\u001b[1;32m   1255\u001b[0m         \u001b[0;32mreturn\u001b[0m \u001b[0mkeyarr\u001b[0m\u001b[0;34m,\u001b[0m \u001b[0mindexer\u001b[0m\u001b[0;34m\u001b[0m\u001b[0;34m\u001b[0m\u001b[0m\n\u001b[1;32m   1256\u001b[0m \u001b[0;34m\u001b[0m\u001b[0m\n",
      "\u001b[0;32m~/.local/lib/python3.8/site-packages/pandas/core/indexing.py\u001b[0m in \u001b[0;36m_validate_read_indexer\u001b[0;34m(self, key, indexer, axis, raise_missing)\u001b[0m\n\u001b[1;32m   1302\u001b[0m             \u001b[0;32mif\u001b[0m \u001b[0mraise_missing\u001b[0m\u001b[0;34m:\u001b[0m\u001b[0;34m\u001b[0m\u001b[0;34m\u001b[0m\u001b[0m\n\u001b[1;32m   1303\u001b[0m                 \u001b[0mnot_found\u001b[0m \u001b[0;34m=\u001b[0m \u001b[0mlist\u001b[0m\u001b[0;34m(\u001b[0m\u001b[0mset\u001b[0m\u001b[0;34m(\u001b[0m\u001b[0mkey\u001b[0m\u001b[0;34m)\u001b[0m \u001b[0;34m-\u001b[0m \u001b[0mset\u001b[0m\u001b[0;34m(\u001b[0m\u001b[0max\u001b[0m\u001b[0;34m)\u001b[0m\u001b[0;34m)\u001b[0m\u001b[0;34m\u001b[0m\u001b[0;34m\u001b[0m\u001b[0m\n\u001b[0;32m-> 1304\u001b[0;31m                 \u001b[0;32mraise\u001b[0m \u001b[0mKeyError\u001b[0m\u001b[0;34m(\u001b[0m\u001b[0;34mf\"{not_found} not in index\"\u001b[0m\u001b[0;34m)\u001b[0m\u001b[0;34m\u001b[0m\u001b[0;34m\u001b[0m\u001b[0m\n\u001b[0m\u001b[1;32m   1305\u001b[0m \u001b[0;34m\u001b[0m\u001b[0m\n\u001b[1;32m   1306\u001b[0m             \u001b[0;31m# we skip the warning on Categorical\u001b[0m\u001b[0;34m\u001b[0m\u001b[0;34m\u001b[0m\u001b[0;34m\u001b[0m\u001b[0m\n",
      "\u001b[0;31mKeyError\u001b[0m: \"['book_desc'] not in index\""
     ]
    }
   ],
   "source": [
    "# Create an instance of a PorterStemmer object\n",
    "porter = PorterStemmer()\n",
    "\n",
    "# Convert the text to lower case \n",
    "df['tokens_stem'] = df.apply(lambda row: [porter.stem(token) for token in row['tokens_no_sw']] , \n",
    "                                          axis=1)"
   ]
  },
  {
   "cell_type": "code",
   "execution_count": 22,
   "metadata": {},
   "outputs": [
    {
     "data": {
      "text/html": [
       "<div>\n",
       "<style scoped>\n",
       "    .dataframe tbody tr th:only-of-type {\n",
       "        vertical-align: middle;\n",
       "    }\n",
       "\n",
       "    .dataframe tbody tr th {\n",
       "        vertical-align: top;\n",
       "    }\n",
       "\n",
       "    .dataframe thead th {\n",
       "        text-align: right;\n",
       "    }\n",
       "</style>\n",
       "<table border=\"1\" class=\"dataframe\">\n",
       "  <thead>\n",
       "    <tr style=\"text-align: right;\">\n",
       "      <th></th>\n",
       "      <th>abstract</th>\n",
       "      <th>tokens</th>\n",
       "      <th>tokens_lower</th>\n",
       "      <th>tokens_no_sw</th>\n",
       "      <th>tokens_stem</th>\n",
       "    </tr>\n",
       "  </thead>\n",
       "  <tbody>\n",
       "    <tr>\n",
       "      <th>0</th>\n",
       "      <td>The intelligent acoustic emission locator is...</td>\n",
       "      <td>[The, intelligent, acoustic, emission, locator...</td>\n",
       "      <td>[the, intelligent, acoustic, emission, locator...</td>\n",
       "      <td>[intelligent, acoustic, emission, locator, des...</td>\n",
       "      <td>[intellig, acoust, emiss, locat, describ, part...</td>\n",
       "    </tr>\n",
       "    <tr>\n",
       "      <th>1</th>\n",
       "      <td>Part I describes an intelligent acoustic emi...</td>\n",
       "      <td>[Part, I, describes, an, intelligent, acoustic...</td>\n",
       "      <td>[part, i, describes, an, intelligent, acoustic...</td>\n",
       "      <td>[part, describes, intelligent, acoustic, emiss...</td>\n",
       "      <td>[part, describ, intellig, acoust, emiss, locat...</td>\n",
       "    </tr>\n",
       "    <tr>\n",
       "      <th>2</th>\n",
       "      <td>This paper discusses the benefits of describ...</td>\n",
       "      <td>[This, paper, discusses, the, benefits, of, de...</td>\n",
       "      <td>[this, paper, discusses, the, benefits, of, de...</td>\n",
       "      <td>[paper, discusses, benefits, describing, world...</td>\n",
       "      <td>[paper, discuss, benefit, describ, world, info...</td>\n",
       "    </tr>\n",
       "    <tr>\n",
       "      <th>3</th>\n",
       "      <td>The problem of statistical learning is to co...</td>\n",
       "      <td>[The, problem, of, statistical, learning, is, ...</td>\n",
       "      <td>[the, problem, of, statistical, learning, is, ...</td>\n",
       "      <td>[problem, statistical, learning, construct, pr...</td>\n",
       "      <td>[problem, statist, learn, construct, predictor...</td>\n",
       "    </tr>\n",
       "    <tr>\n",
       "      <th>4</th>\n",
       "      <td>In a sensor network, in practice, the commun...</td>\n",
       "      <td>[In, a, sensor, network, in, practice, the, co...</td>\n",
       "      <td>[in, a, sensor, network, in, practice, the, co...</td>\n",
       "      <td>[sensor, network, practice, communication, amo...</td>\n",
       "      <td>[sensor, network, practic, commun, among, sens...</td>\n",
       "    </tr>\n",
       "  </tbody>\n",
       "</table>\n",
       "</div>"
      ],
      "text/plain": [
       "                                            abstract  \\\n",
       "0    The intelligent acoustic emission locator is...   \n",
       "1    Part I describes an intelligent acoustic emi...   \n",
       "2    This paper discusses the benefits of describ...   \n",
       "3    The problem of statistical learning is to co...   \n",
       "4    In a sensor network, in practice, the commun...   \n",
       "\n",
       "                                              tokens  \\\n",
       "0  [The, intelligent, acoustic, emission, locator...   \n",
       "1  [Part, I, describes, an, intelligent, acoustic...   \n",
       "2  [This, paper, discusses, the, benefits, of, de...   \n",
       "3  [The, problem, of, statistical, learning, is, ...   \n",
       "4  [In, a, sensor, network, in, practice, the, co...   \n",
       "\n",
       "                                        tokens_lower  \\\n",
       "0  [the, intelligent, acoustic, emission, locator...   \n",
       "1  [part, i, describes, an, intelligent, acoustic...   \n",
       "2  [this, paper, discusses, the, benefits, of, de...   \n",
       "3  [the, problem, of, statistical, learning, is, ...   \n",
       "4  [in, a, sensor, network, in, practice, the, co...   \n",
       "\n",
       "                                        tokens_no_sw  \\\n",
       "0  [intelligent, acoustic, emission, locator, des...   \n",
       "1  [part, describes, intelligent, acoustic, emiss...   \n",
       "2  [paper, discusses, benefits, describing, world...   \n",
       "3  [problem, statistical, learning, construct, pr...   \n",
       "4  [sensor, network, practice, communication, amo...   \n",
       "\n",
       "                                         tokens_stem  \n",
       "0  [intellig, acoust, emiss, locat, describ, part...  \n",
       "1  [part, describ, intellig, acoust, emiss, locat...  \n",
       "2  [paper, discuss, benefit, describ, world, info...  \n",
       "3  [problem, statist, learn, construct, predictor...  \n",
       "4  [sensor, network, practic, commun, among, sens...  "
      ]
     },
     "execution_count": 22,
     "metadata": {},
     "output_type": "execute_result"
    }
   ],
   "source": [
    "# Printing out the first 8 words / tokens \n",
    "df[['abstract', 'tokens', 'tokens_lower', 'tokens_no_sw', 'tokens_stem']].head()"
   ]
  },
  {
   "cell_type": "code",
   "execution_count": 23,
   "metadata": {},
   "outputs": [],
   "source": [
    "# Create a dictionary from the stemmed tokens\n",
    "dictionary = corpora.Dictionary(df['tokens_stem'])"
   ]
  },
  {
   "cell_type": "code",
   "execution_count": 24,
   "metadata": {},
   "outputs": [],
   "source": [
    "# Create a bag-of-words model for each book, using the previously \n",
    "# generated dictionary\n",
    "bow_model = [dictionary.doc2bow(art) for art in df['tokens_stem']]"
   ]
  },
  {
   "cell_type": "code",
   "execution_count": 25,
   "metadata": {},
   "outputs": [],
   "source": [
    "# Generate the tf-idf model\n",
    "tfidf_model = TfidfModel(bow_model)"
   ]
  },
  {
   "cell_type": "code",
   "execution_count": null,
   "metadata": {},
   "outputs": [],
   "source": []
  }
 ],
 "metadata": {
  "kernelspec": {
   "display_name": "Python 3",
   "language": "python",
   "name": "python3"
  },
  "language_info": {
   "codemirror_mode": {
    "name": "ipython",
    "version": 3
   },
   "file_extension": ".py",
   "mimetype": "text/x-python",
   "name": "python",
   "nbconvert_exporter": "python",
   "pygments_lexer": "ipython3",
   "version": "3.8.5"
  }
 },
 "nbformat": 4,
 "nbformat_minor": 4
}
