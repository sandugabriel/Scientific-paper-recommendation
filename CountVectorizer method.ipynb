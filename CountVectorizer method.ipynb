{
 "cells": [
  {
   "cell_type": "code",
   "execution_count": 1,
   "metadata": {},
   "outputs": [],
   "source": [
    "import pandas as pd\n",
    "import numpy as np\n",
    "import nltk"
   ]
  },
  {
   "cell_type": "code",
   "execution_count": 2,
   "metadata": {},
   "outputs": [],
   "source": [
    "from nltk.corpus import stopwords\n",
    "import re\n",
    "import string\n",
    "from nltk.stem import WordNetLemmatizer\n",
    "\n",
    "from nltk import word_tokenize\n",
    "from nltk.corpus import stopwords\n",
    "stop = stopwords.words('english')\n",
    "stop_words_ = set(stopwords.words('english'))\n",
    "wn = WordNetLemmatizer()\n",
    "\n",
    "def black_txt(token):\n",
    "    return  token not in stop_words_ and token not in list(string.punctuation)  and len(token)>2   \n",
    "\n",
    "def clean_txt(text):\n",
    "    clean_text = []\n",
    "    clean_text2 = []\n",
    "    text = re.sub(\"'\", \"\",text)\n",
    "    text=re.sub(\"(\\\\d|\\\\W)+\",\" \",text) \n",
    "    text = text.replace(\"nbsp\", \"\")\n",
    "    clean_text = [ wn.lemmatize(word, pos=\"v\") for word in word_tokenize(text.lower()) if black_txt(word)]\n",
    "    clean_text2 = [word for word in clean_text if black_txt(word)]\n",
    "    return \" \".join(clean_text2)"
   ]
  },
  {
   "cell_type": "code",
   "execution_count": 3,
   "metadata": {},
   "outputs": [],
   "source": [
    "df = pd.read_json('ai_papers.json')"
   ]
  },
  {
   "cell_type": "code",
   "execution_count": 4,
   "metadata": {},
   "outputs": [],
   "source": [
    "# Preprocessing the dataset\n",
    "df['abstract'] = df['abstract'].apply(clean_txt)"
   ]
  },
  {
   "cell_type": "code",
   "execution_count": 5,
   "metadata": {},
   "outputs": [
    {
     "data": {
      "text/html": [
       "<div>\n",
       "<style scoped>\n",
       "    .dataframe tbody tr th:only-of-type {\n",
       "        vertical-align: middle;\n",
       "    }\n",
       "\n",
       "    .dataframe tbody tr th {\n",
       "        vertical-align: top;\n",
       "    }\n",
       "\n",
       "    .dataframe thead th {\n",
       "        text-align: right;\n",
       "    }\n",
       "</style>\n",
       "<table border=\"1\" class=\"dataframe\">\n",
       "  <thead>\n",
       "    <tr style=\"text-align: right;\">\n",
       "      <th></th>\n",
       "      <th>id</th>\n",
       "      <th>title</th>\n",
       "      <th>category</th>\n",
       "      <th>abstract</th>\n",
       "      <th>version</th>\n",
       "    </tr>\n",
       "  </thead>\n",
       "  <tbody>\n",
       "    <tr>\n",
       "      <th>0</th>\n",
       "      <td>0704.0047</td>\n",
       "      <td>Intelligent location of simultaneously active ...</td>\n",
       "      <td>cs.NE cs.AI</td>\n",
       "      <td>intelligent acoustic emission locator describe...</td>\n",
       "      <td>Sun, 1 Apr 2007 13:06:50 GMT</td>\n",
       "    </tr>\n",
       "    <tr>\n",
       "      <th>1</th>\n",
       "      <td>0704.0050</td>\n",
       "      <td>Intelligent location of simultaneously active ...</td>\n",
       "      <td>cs.NE cs.AI</td>\n",
       "      <td>part describe intelligent acoustic emission lo...</td>\n",
       "      <td>Sun, 1 Apr 2007 18:53:13 GMT</td>\n",
       "    </tr>\n",
       "    <tr>\n",
       "      <th>2</th>\n",
       "      <td>0704.0304</td>\n",
       "      <td>The World as Evolving Information</td>\n",
       "      <td>cs.IT cs.AI math.IT q-bio.PE</td>\n",
       "      <td>paper discuss benefit describe world informati...</td>\n",
       "      <td>Wed, 13 Oct 2010 19:49:16 GMT</td>\n",
       "    </tr>\n",
       "    <tr>\n",
       "      <th>3</th>\n",
       "      <td>0704.0671</td>\n",
       "      <td>Learning from compressed observations</td>\n",
       "      <td>cs.IT cs.LG math.IT</td>\n",
       "      <td>problem statistical learn construct predictor ...</td>\n",
       "      <td>Thu, 5 Apr 2007 02:57:15 GMT</td>\n",
       "    </tr>\n",
       "    <tr>\n",
       "      <th>4</th>\n",
       "      <td>0704.0954</td>\n",
       "      <td>Sensor Networks with Random Links: Topology De...</td>\n",
       "      <td>cs.IT cs.LG math.IT</td>\n",
       "      <td>sensor network practice communication among se...</td>\n",
       "      <td>Fri, 6 Apr 2007 21:58:52 GMT</td>\n",
       "    </tr>\n",
       "  </tbody>\n",
       "</table>\n",
       "</div>"
      ],
      "text/plain": [
       "          id                                              title  \\\n",
       "0  0704.0047  Intelligent location of simultaneously active ...   \n",
       "1  0704.0050  Intelligent location of simultaneously active ...   \n",
       "2  0704.0304                  The World as Evolving Information   \n",
       "3  0704.0671              Learning from compressed observations   \n",
       "4  0704.0954  Sensor Networks with Random Links: Topology De...   \n",
       "\n",
       "                       category  \\\n",
       "0                   cs.NE cs.AI   \n",
       "1                   cs.NE cs.AI   \n",
       "2  cs.IT cs.AI math.IT q-bio.PE   \n",
       "3           cs.IT cs.LG math.IT   \n",
       "4           cs.IT cs.LG math.IT   \n",
       "\n",
       "                                            abstract  \\\n",
       "0  intelligent acoustic emission locator describe...   \n",
       "1  part describe intelligent acoustic emission lo...   \n",
       "2  paper discuss benefit describe world informati...   \n",
       "3  problem statistical learn construct predictor ...   \n",
       "4  sensor network practice communication among se...   \n",
       "\n",
       "                         version  \n",
       "0   Sun, 1 Apr 2007 13:06:50 GMT  \n",
       "1   Sun, 1 Apr 2007 18:53:13 GMT  \n",
       "2  Wed, 13 Oct 2010 19:49:16 GMT  \n",
       "3   Thu, 5 Apr 2007 02:57:15 GMT  \n",
       "4   Fri, 6 Apr 2007 21:58:52 GMT  "
      ]
     },
     "execution_count": 5,
     "metadata": {},
     "output_type": "execute_result"
    }
   ],
   "source": [
    "# Looking at the cleaned dataset\n",
    "df.head()"
   ]
  },
  {
   "cell_type": "code",
   "execution_count": 20,
   "metadata": {},
   "outputs": [
    {
     "data": {
      "text/plain": [
       "<91496x78832 sparse matrix of type '<class 'numpy.int64'>'\n",
       "\twith 6652009 stored elements in Compressed Sparse Row format>"
      ]
     },
     "execution_count": 20,
     "metadata": {},
     "output_type": "execute_result"
    }
   ],
   "source": [
    "# Count vectorizer method\n",
    "from sklearn.feature_extraction.text import CountVectorizer\n",
    "count_vectorizer = CountVectorizer()\n",
    "\n",
    "count = count_vectorizer.fit_transform((df['abstract'])) #fitting and transforming the vector\n",
    "count"
   ]
  },
  {
   "cell_type": "code",
   "execution_count": 21,
   "metadata": {},
   "outputs": [
    {
     "data": {
      "text/plain": [
       "scipy.sparse.csr.csr_matrix"
      ]
     },
     "execution_count": 21,
     "metadata": {},
     "output_type": "execute_result"
    }
   ],
   "source": [
    "type(count)"
   ]
  },
  {
   "cell_type": "code",
   "execution_count": 7,
   "metadata": {},
   "outputs": [],
   "source": [
    "user_query = \"face recognition deep learning convolutional neural networks\"\n",
    "user_query = clean_txt(user_query)"
   ]
  },
  {
   "cell_type": "code",
   "execution_count": 8,
   "metadata": {},
   "outputs": [],
   "source": [
    "from sklearn.metrics.pairwise import cosine_similarity\n",
    "user_count = count_vectorizer.transform([user_query])\n",
    "cos_similarity_countv = map(lambda x: cosine_similarity(user_count, x),count)"
   ]
  },
  {
   "cell_type": "code",
   "execution_count": 22,
   "metadata": {},
   "outputs": [],
   "source": [
    "count = np.load('count_matrix.npy', allow_pickle=True)"
   ]
  },
  {
   "cell_type": "code",
   "execution_count": 24,
   "metadata": {},
   "outputs": [],
   "source": [
    "from scipy.sparse import csr_matrix\n",
    "\n",
    "D = csr_matrix(count.all())"
   ]
  },
  {
   "cell_type": "code",
   "execution_count": 25,
   "metadata": {},
   "outputs": [
    {
     "data": {
      "text/plain": [
       "<91496x78832 sparse matrix of type '<class 'numpy.int64'>'\n",
       "\twith 6652009 stored elements in Compressed Sparse Row format>"
      ]
     },
     "execution_count": 25,
     "metadata": {},
     "output_type": "execute_result"
    }
   ],
   "source": [
    "D"
   ]
  },
  {
   "cell_type": "code",
   "execution_count": 20,
   "metadata": {},
   "outputs": [],
   "source": [
    "output2 = list(cos_similarity_countv)\n"
   ]
  },
  {
   "cell_type": "code",
   "execution_count": 21,
   "metadata": {},
   "outputs": [],
   "source": [
    "def get_recommendation(top, df_all, scores):\n",
    "    recommendation = pd.DataFrame(columns = ['Title', 'score'])\n",
    "    count = 0\n",
    "    for i in top:\n",
    "        recommendation.at[count, 'Title'] = df['title'][i]\n",
    "        recommendation.at[count, 'score'] =  scores[count]\n",
    "        count += 1\n",
    "    return recommendation"
   ]
  },
  {
   "cell_type": "code",
   "execution_count": 22,
   "metadata": {},
   "outputs": [
    {
     "data": {
      "text/html": [
       "<div>\n",
       "<style scoped>\n",
       "    .dataframe tbody tr th:only-of-type {\n",
       "        vertical-align: middle;\n",
       "    }\n",
       "\n",
       "    .dataframe tbody tr th {\n",
       "        vertical-align: top;\n",
       "    }\n",
       "\n",
       "    .dataframe thead th {\n",
       "        text-align: right;\n",
       "    }\n",
       "</style>\n",
       "<table border=\"1\" class=\"dataframe\">\n",
       "  <thead>\n",
       "    <tr style=\"text-align: right;\">\n",
       "      <th></th>\n",
       "      <th>Title</th>\n",
       "      <th>score</th>\n",
       "    </tr>\n",
       "  </thead>\n",
       "  <tbody>\n",
       "    <tr>\n",
       "      <th>0</th>\n",
       "      <td>Universality of Deep Convolutional Neural Netw...</td>\n",
       "      <td>0.65809</td>\n",
       "    </tr>\n",
       "    <tr>\n",
       "      <th>1</th>\n",
       "      <td>Deep Recurrent Convolutional Neural Network: I...</td>\n",
       "      <td>0.627785</td>\n",
       "    </tr>\n",
       "    <tr>\n",
       "      <th>2</th>\n",
       "      <td>Deep Learning for Computational Chemistry</td>\n",
       "      <td>0.601493</td>\n",
       "    </tr>\n",
       "    <tr>\n",
       "      <th>3</th>\n",
       "      <td>Implementation of Training Convolutional Neura...</td>\n",
       "      <td>0.594322</td>\n",
       "    </tr>\n",
       "    <tr>\n",
       "      <th>4</th>\n",
       "      <td>A Unified Framework of Deep Neural Networks by...</td>\n",
       "      <td>0.58125</td>\n",
       "    </tr>\n",
       "    <tr>\n",
       "      <th>5</th>\n",
       "      <td>Applications of Deep Neural Networks</td>\n",
       "      <td>0.580544</td>\n",
       "    </tr>\n",
       "    <tr>\n",
       "      <th>6</th>\n",
       "      <td>DLL: A Blazing Fast Deep Neural Network Library</td>\n",
       "      <td>0.574722</td>\n",
       "    </tr>\n",
       "    <tr>\n",
       "      <th>7</th>\n",
       "      <td>Deep Reinforcement Learning: An Overview</td>\n",
       "      <td>0.570925</td>\n",
       "    </tr>\n",
       "    <tr>\n",
       "      <th>8</th>\n",
       "      <td>Recent Advances in Convolutional Neural Networks</td>\n",
       "      <td>0.564218</td>\n",
       "    </tr>\n",
       "    <tr>\n",
       "      <th>9</th>\n",
       "      <td>Convex Formulation of Overparameterized Deep N...</td>\n",
       "      <td>0.562286</td>\n",
       "    </tr>\n",
       "  </tbody>\n",
       "</table>\n",
       "</div>"
      ],
      "text/plain": [
       "                                               Title     score\n",
       "0  Universality of Deep Convolutional Neural Netw...   0.65809\n",
       "1  Deep Recurrent Convolutional Neural Network: I...  0.627785\n",
       "2          Deep Learning for Computational Chemistry  0.601493\n",
       "3  Implementation of Training Convolutional Neura...  0.594322\n",
       "4  A Unified Framework of Deep Neural Networks by...   0.58125\n",
       "5               Applications of Deep Neural Networks  0.580544\n",
       "6    DLL: A Blazing Fast Deep Neural Network Library  0.574722\n",
       "7           Deep Reinforcement Learning: An Overview  0.570925\n",
       "8   Recent Advances in Convolutional Neural Networks  0.564218\n",
       "9  Convex Formulation of Overparameterized Deep N...  0.562286"
      ]
     },
     "execution_count": 22,
     "metadata": {},
     "output_type": "execute_result"
    }
   ],
   "source": [
    "top = sorted(range(len(output2)), key=lambda i: output2[i], reverse=True)[:10]\n",
    "list_scores = [output2[i][0][0] for i in top]\n",
    "get_recommendation(top, df, list_scores)"
   ]
  }
 ],
 "metadata": {
  "kernelspec": {
   "display_name": "Python 3",
   "language": "python",
   "name": "python3"
  },
  "language_info": {
   "codemirror_mode": {
    "name": "ipython",
    "version": 3
   },
   "file_extension": ".py",
   "mimetype": "text/x-python",
   "name": "python",
   "nbconvert_exporter": "python",
   "pygments_lexer": "ipython3",
   "version": "3.8.5"
  }
 },
 "nbformat": 4,
 "nbformat_minor": 4
}
